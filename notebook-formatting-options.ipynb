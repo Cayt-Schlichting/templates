{
 "cells": [
  {
   "cell_type": "markdown",
   "id": "fcb89b0e",
   "metadata": {},
   "source": [
    "## Table of contents\n",
    "* [Notebook links](#notebook-links)\n",
    "* [Colored text boxes](#colored-text-boxes)\n",
    "* [Horizontal lines](#horiz-line)"
   ]
  },
  {
   "cell_type": "markdown",
   "id": "006ea3ff",
   "metadata": {},
   "source": [
    "### Adding intra-notebook links <a class=\"anchor\" id=\"notebook-links\">\n",
    "\n",
    "[Text I want as a hyperlink](#anchor-id)\n",
    "\n",
    "\n",
    "*where my hyperlink goes >> see anchor* <a class=\"anchor\" id=\"anchor-id\">"
   ]
  },
  {
   "cell_type": "markdown",
   "id": "6fc623a4",
   "metadata": {},
   "source": [
    "### Colored text boxes <a class=\"anchor\" id=\"colored-text-boxes\">\n",
    "\n",
    "<div class=\"alert alert-success\">\n",
    "<b>Success alert</b>\n",
    " ---- text here------\n",
    "</div>\n",
    "\n",
    "\n",
    "\n",
    "<div class=\"alert alert-info\">\n",
    "<b>Info alert</b>\n",
    " ---- text here------\n",
    "</div>\n",
    "\n",
    "<div class=\"alert alert-block alert-warning\">\n",
    "<b>Warning alert</b>\n",
    " ---- text here------\n",
    "</div>\n",
    "\n",
    "\n",
    "<div class=\"alert alert-block alert-danger\">\n",
    "<b>Danger alert</b>\n",
    " ---- text here------\n",
    "</div>\n",
    "\n"
   ]
  },
  {
   "cell_type": "markdown",
   "id": "2e3a76d0",
   "metadata": {},
   "source": [
    "### horizontal line options <a class=\"anchor\" id=\"horiz-line\">\n",
    "***\n",
    "---\n",
    "\n",
    "<hr style=\"background-color:silver;height:3px;\" />\n",
    "\n",
    "<hr style=\"border:2px groove blue;width:50%;\">\n",
    "\n",
    "<hr style=\"height:2px;border-width:0;color:gray;background-color:olive\">\n",
    "\n",
    "<hr style=\"background-color:green;height:10px;\">\n",
    "\n",
    "\n"
   ]
  },
  {
   "cell_type": "markdown",
   "id": "c7e3f30d",
   "metadata": {},
   "source": [
    "### Text stuff\n",
    "\n",
    "Highlight words you want to ==emphasize==.\n",
    "\n",
    "H~2~O\n",
    "\n",
    "\n",
    "#### Equations\n",
    "\n",
    "\\begin{equation}\n",
    "e^x=\\sum_{i=0}^\\infty \\frac{1}{i!}x^i\n",
    "\\end{equation}\n"
   ]
  },
  {
   "cell_type": "code",
   "execution_count": null,
   "id": "73a1abb7",
   "metadata": {},
   "outputs": [],
   "source": []
  }
 ],
 "metadata": {
  "kernelspec": {
   "display_name": "Python 3 (ipykernel)",
   "language": "python",
   "name": "python3"
  },
  "language_info": {
   "codemirror_mode": {
    "name": "ipython",
    "version": 3
   },
   "file_extension": ".py",
   "mimetype": "text/x-python",
   "name": "python",
   "nbconvert_exporter": "python",
   "pygments_lexer": "ipython3",
   "version": "3.9.7"
  }
 },
 "nbformat": 4,
 "nbformat_minor": 5
}
